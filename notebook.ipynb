{
 "cells": [
  {
   "cell_type": "code",
   "execution_count": 51,
   "id": "8d5f8170",
   "metadata": {},
   "outputs": [],
   "source": [
    "from components.environment import create_environment\n",
    "from components.model import ActorCriticMLP\n",
    "from components.helper import compute_returns\n",
    "import torch\n",
    "import tqdm\n",
    "import yaml\n",
    "import matplotlib.pyplot as plt\n",
    "import numpy as np\n",
    "from components.encoder import RuleBasedEncoder\n",
    "import cv2"
   ]
  },
  {
   "cell_type": "code",
   "execution_count": 52,
   "id": "1f3d13e3",
   "metadata": {},
   "outputs": [
    {
     "name": "stdout",
     "output_type": "stream",
     "text": [
      "Initial state shape: (210, 160, 3)\n"
     ]
    }
   ],
   "source": [
    "# Load configuration\n",
    "with open(\"config.yaml\", \"r\") as file:\n",
    "    config = yaml.safe_load(file)\n",
    "\n",
    "device = torch.device(\"cuda\" if torch.cuda.is_available() else \"cpu\")\n",
    "\n",
    "env = create_environment(\n",
    "    game_name=config[\"environment\"][\"game_name\"],\n",
    "    render_mode=\"rgb_array\",\n",
    "    )\n",
    "        \n",
    "model = ActorCriticMLP(n_input=50,\n",
    "                    num_actions=env.action_space.n).to(device)\n",
    "\n",
    "optimizer = torch.optim.AdamW(model.parameters(),\n",
    "                            lr=config[\"optimizer\"][\"params\"][\"lr\"],\n",
    "                            weight_decay=config[\"optimizer\"][\"params\"][\"weight_decay\"]\n",
    "                            )\n",
    "\n",
    "encoder = RuleBasedEncoder()\n",
    "\n",
    "max_updates = config[\"training\"][\"max_updates\"]\n",
    "steps_per_update = config[\"training\"][\"steps_per_update\"]\n",
    "gamma = config[\"training\"][\"gamma\"]\n",
    "actor_weight = config[\"training\"][\"actor_weight\"]\n",
    "critic_weight = config[\"training\"][\"critic_weight\"]\n",
    "entropy_weight = config[\"training\"][\"entropy_weight\"]\n",
    "\n",
    "state, _ = env.reset()\n",
    "print(\"Initial state shape:\", state.shape)\n",
    "#state = torch.tensor(state, dtype=torch.float32).to(device)"
   ]
  },
  {
   "cell_type": "code",
   "execution_count": 59,
   "id": "ae16026d",
   "metadata": {},
   "outputs": [],
   "source": [
    "n = 1\n",
    "\n",
    "for _ in range(n):\n",
    "    state, _, _, _, _ = env.step(1)"
   ]
  },
  {
   "cell_type": "code",
   "execution_count": 60,
   "id": "cdd39d09",
   "metadata": {},
   "outputs": [
    {
     "data": {
      "text/plain": [
       "<matplotlib.image.AxesImage at 0x7fa168903910>"
      ]
     },
     "execution_count": 60,
     "metadata": {},
     "output_type": "execute_result"
    },
    {
     "data": {
      "image/png": "[encoded data removed]",
      "text/plain": [
       "<Figure size 640x480 with 1 Axes>"
      ]
     },
     "metadata": {},
     "output_type": "display_data"
    }
   ],
   "source": [
    "plt.imshow(state)"
   ]
  },
  {
   "cell_type": "code",
   "execution_count": 36,
   "id": "8ee1aabd",
   "metadata": {},
   "outputs": [
    {
     "name": "stdout",
     "output_type": "stream",
     "text": [
      "Player position: 0.5083798882681564\n",
      "Ball position: [0.4375     0.54748603]\n",
      "Ball velocity: [-0.02777778  0.02234637]\n",
      "Bricks position:\n",
      "[[1. 1. 1. 1. 1. 1. 1. 1. 1. 1. 1. 1. 1. 1. 1. 1. 1. 1.]\n",
      " [1. 1. 1. 1. 1. 1. 1. 1. 1. 1. 1. 1. 1. 1. 1. 1. 1. 1.]\n",
      " [1. 1. 1. 1. 1. 1. 1. 1. 1. 1. 1. 1. 1. 1. 1. 1. 1. 1.]\n",
      " [1. 1. 1. 1. 1. 1. 1. 1. 1. 1. 1. 1. 1. 1. 1. 1. 1. 1.]\n",
      " [1. 1. 1. 1. 1. 1. 1. 1. 1. 1. 1. 1. 1. 1. 1. 1. 1. 1.]\n",
      " [1. 1. 1. 1. 1. 1. 1. 1. 1. 1. 1. 1. 1. 1. 1. 1. 1. 1.]]\n"
     ]
    }
   ],
   "source": [
    "output = encoder(state)\n",
    "\n",
    "print(\"Player position:\", output[0])\n",
    "print(\"Ball position:\", output[1:3])\n",
    "print(\"Ball velocity:\", output[3:5])\n",
    "\n",
    "# Print the bricks position, unflatten the output knowing that the bricks are 6 x 18 and display it as a matrix\n",
    "bricks = np.array(output[5:])\n",
    "bricks = bricks.reshape(6, 18)  # Use reshape instead of view\n",
    "print(\"Bricks position:\")\n",
    "print(bricks)"
   ]
  },
  {
   "cell_type": "code",
   "execution_count": 200,
   "id": "a62a8217",
   "metadata": {},
   "outputs": [
    {
     "name": "stdout",
     "output_type": "stream",
     "text": [
      "(36, 144)\n"
     ]
    }
   ],
   "source": [
    "print(brick_mask.shape)"
   ]
  }
 ],
 "metadata": {
  "kernelspec": {
   "display_name": "atari_rl",
   "language": "python",
   "name": "python3"
  },
  "language_info": {
   "codemirror_mode": {
    "name": "ipython",
    "version": 3
   },
   "file_extension": ".py",
   "mimetype": "text/x-python",
   "name": "python",
   "nbconvert_exporter": "python",
   "pygments_lexer": "ipython3",
   "version": "3.8.20"
  }
 },
 "nbformat": 4,
 "nbformat_minor": 5
}
